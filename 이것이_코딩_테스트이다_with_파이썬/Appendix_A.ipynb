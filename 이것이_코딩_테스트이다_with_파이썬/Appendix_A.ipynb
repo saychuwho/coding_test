{
 "cells": [
  {
   "cell_type": "markdown",
   "metadata": {},
   "source": [
    "# Appendix A\n",
    "\n",
    "- 복습이 필요할 거 같은 구문들만 추려서 여기에 적어보자"
   ]
  },
  {
   "cell_type": "markdown",
   "metadata": {},
   "source": [
    "## 자료형"
   ]
  },
  {
   "cell_type": "markdown",
   "metadata": {},
   "source": [
    "### 수 자료형"
   ]
  },
  {
   "cell_type": "code",
   "execution_count": 2,
   "metadata": {},
   "outputs": [
    {
     "name": "stdout",
     "output_type": "stream",
     "text": [
      "5.0\n",
      "-0.7\n",
      "1000000000.0\n",
      "752.5\n",
      "3.954\n"
     ]
    }
   ],
   "source": [
    "# 실수형\n",
    "\n",
    "a = 5.\n",
    "print(a)\n",
    "\n",
    "a = -.7\n",
    "print(a)\n",
    "\n",
    "a = 1e9\n",
    "print(a)\n",
    "\n",
    "a = 75.25e1\n",
    "print(a)\n",
    "\n",
    "a = 3954e-3\n",
    "print(a)"
   ]
  },
  {
   "cell_type": "markdown",
   "metadata": {},
   "source": [
    "### 리스트 자료형"
   ]
  },
  {
   "cell_type": "code",
   "execution_count": 3,
   "metadata": {},
   "outputs": [
    {
     "name": "stdout",
     "output_type": "stream",
     "text": [
      "9\n",
      "7\n",
      "[2, 3, 4]\n"
     ]
    }
   ],
   "source": [
    "# 리스트 인덱싱 슬라이싱\n",
    "a = [1,2,3,4,5,6,7,8,9]\n",
    "print(a[-1])\n",
    "print(a[-3])\n",
    "print(a[1:4]) # [1,4), 즉, index 1,2,3을 출력"
   ]
  },
  {
   "cell_type": "code",
   "execution_count": 4,
   "metadata": {},
   "outputs": [
    {
     "name": "stdout",
     "output_type": "stream",
     "text": [
      "[1, 3, 5, 7, 9, 11, 13, 15, 17, 19]\n",
      "[[0, 0, 0, 0], [0, 5, 0, 0], [0, 0, 0, 0]]\n",
      "[[0, 5, 0, 0], [0, 5, 0, 0], [0, 5, 0, 0]]\n"
     ]
    }
   ],
   "source": [
    "# list comprehension\n",
    "array = [i for i in range(20) if i % 2 == 1]\n",
    "print(array)\n",
    "\n",
    "n = 3\n",
    "m = 4\n",
    "\n",
    "array = [[0]*m for _ in range(n)]\n",
    "array[1][1] = 5\n",
    "print(array)\n",
    "\n",
    "array = [[0]*m]*n\n",
    "array[1][1] = 5\n",
    "print(array)"
   ]
  },
  {
   "cell_type": "code",
   "execution_count": 5,
   "metadata": {},
   "outputs": [
    {
     "name": "stdout",
     "output_type": "stream",
     "text": [
      "basic list: [1, 4, 3]\n",
      "append: [1, 4, 3, 2]\n",
      "sort: [1, 2, 3, 4]\n",
      "sort reverse: [4, 3, 2, 1]\n",
      "reverse: [1, 2, 3, 4]\n",
      "add 3 into index 2: [1, 2, 3, 3, 4]\n",
      "count data with value 3: 2\n",
      "remove data with value 1: [2, 3, 3, 4]\n"
     ]
    }
   ],
   "source": [
    "# list 관련 기타 method\n",
    "\n",
    "array = [1,4,3]\n",
    "print(\"basic list:\",array)\n",
    "\n",
    "array.append(2) # O(1)\n",
    "print(\"append:\",array)\n",
    "\n",
    "array.sort()\n",
    "print(\"sort:\",array)\n",
    "\n",
    "array.sort(reverse=True)\n",
    "print(\"sort reverse:\",array)\n",
    "\n",
    "array.reverse()\n",
    "print(\"reverse:\",array)\n",
    "\n",
    "array.insert(2,3) # O(n)\n",
    "print(\"add 3 into index 2:\",array)\n",
    "\n",
    "print(\"count data with value 3:\", array.count(3))\n",
    "\n",
    "array.remove(1) # O(n)\n",
    "print(\"remove data with value 1:\", array)"
   ]
  },
  {
   "cell_type": "code",
   "execution_count": 6,
   "metadata": {},
   "outputs": [
    {
     "name": "stdout",
     "output_type": "stream",
     "text": [
      "[1, 2, 4]\n"
     ]
    }
   ],
   "source": [
    "# 특정한 값의 원소를 모두 제거하기\n",
    "\n",
    "a = [1,2,3,4,5,5,5]\n",
    "remove_set = {3,5}\n",
    "\n",
    "result = [i for i in a if i not in remove_set]\n",
    "print(result)"
   ]
  },
  {
   "cell_type": "markdown",
   "metadata": {},
   "source": [
    "### 문자열 자료형"
   ]
  },
  {
   "cell_type": "code",
   "execution_count": 7,
   "metadata": {},
   "outputs": [
    {
     "name": "stdout",
     "output_type": "stream",
     "text": [
      "StringStringString\n",
      "CD\n"
     ]
    }
   ],
   "source": [
    "a = \"String\"\n",
    "print(a*3)\n",
    "\n",
    "a = \"ABCDEF\"\n",
    "print(a[2:4])"
   ]
  },
  {
   "cell_type": "markdown",
   "metadata": {},
   "source": [
    "### 튜플 자료형\n",
    "\n",
    "- 주로 그래프 자료형을 다룰 때 사용됨\n",
    "- 일부러 튜플을 사용하면 변경하면 안되는 값이 변경되고 있지는 않은지 체크할 수 있다\n",
    "- 리스트에 비해 상대적으로 공간효율적이고, 각 원소의 성질이 다를 때 주로 사용된다."
   ]
  },
  {
   "cell_type": "code",
   "execution_count": 8,
   "metadata": {},
   "outputs": [
    {
     "name": "stdout",
     "output_type": "stream",
     "text": [
      "(1, 2, 3, 4)\n"
     ]
    },
    {
     "ename": "TypeError",
     "evalue": "'tuple' object does not support item assignment",
     "output_type": "error",
     "traceback": [
      "\u001b[1;31m---------------------------------------------------------------------------\u001b[0m",
      "\u001b[1;31mTypeError\u001b[0m                                 Traceback (most recent call last)",
      "Cell \u001b[1;32mIn[8], line 4\u001b[0m\n\u001b[0;32m      1\u001b[0m a \u001b[38;5;241m=\u001b[39m (\u001b[38;5;241m1\u001b[39m,\u001b[38;5;241m2\u001b[39m,\u001b[38;5;241m3\u001b[39m,\u001b[38;5;241m4\u001b[39m)\n\u001b[0;32m      2\u001b[0m \u001b[38;5;28mprint\u001b[39m(a)\n\u001b[1;32m----> 4\u001b[0m \u001b[43ma\u001b[49m\u001b[43m[\u001b[49m\u001b[38;5;241;43m2\u001b[39;49m\u001b[43m]\u001b[49m \u001b[38;5;241m=\u001b[39m \u001b[38;5;241m7\u001b[39m\n",
      "\u001b[1;31mTypeError\u001b[0m: 'tuple' object does not support item assignment"
     ]
    }
   ],
   "source": [
    "a = (1,2,3,4)\n",
    "print(a)\n",
    "\n",
    "a[2] = 7"
   ]
  },
  {
   "cell_type": "markdown",
   "metadata": {},
   "source": [
    "### Dictionary 자료형\n",
    "\n",
    "- 내부적으로 hash table을 사용하므로 검색, 수정이 $O(1)$에 이루어진다"
   ]
  },
  {
   "cell_type": "code",
   "execution_count": 9,
   "metadata": {},
   "outputs": [
    {
     "name": "stdout",
     "output_type": "stream",
     "text": [
      "'사과'를 키로 가지는 데이터가 존재합니다\n"
     ]
    }
   ],
   "source": [
    "# 'in' 문법\n",
    "\n",
    "data = dict()\n",
    "data['사과'] = 'apple'\n",
    "data['바나나'] = 'banana'\n",
    "data['코코넛'] = 'coconut'\n",
    "\n",
    "if '사과' in data:\n",
    "    print(\"'사과'를 키로 가지는 데이터가 존재합니다\")"
   ]
  },
  {
   "cell_type": "code",
   "execution_count": 10,
   "metadata": {},
   "outputs": [
    {
     "name": "stdout",
     "output_type": "stream",
     "text": [
      "dict_keys(['사과', '바나나', '코코넛'])\n",
      "dict_values(['apple', 'banana', 'coconut'])\n",
      "apple\n",
      "banana\n",
      "coconut\n"
     ]
    }
   ],
   "source": [
    "# keys()\n",
    "\n",
    "key_list = data.keys()\n",
    "\n",
    "# values()\n",
    "value_list = data.values()\n",
    "\n",
    "print(key_list)\n",
    "print(value_list)\n",
    "\n",
    "for key in key_list:\n",
    "    print(data[key])"
   ]
  },
  {
   "cell_type": "markdown",
   "metadata": {},
   "source": [
    "### 집합 자료형\n",
    "\n",
    "- 중복을 허용하지 않는다\n",
    "- 순서가 없다\n",
    "- 원소의 존재여부를 검사하는 연산의 시간복잡도는 $O(1)$이다\n",
    "- 집합 관련 method들 모두 시간복잡도는 $O(1)$이다"
   ]
  },
  {
   "cell_type": "code",
   "execution_count": 11,
   "metadata": {},
   "outputs": [
    {
     "name": "stdout",
     "output_type": "stream",
     "text": [
      "{1, 2, 3, 4, 5}\n",
      "{1, 2, 3, 4, 5}\n"
     ]
    }
   ],
   "source": [
    "# init set\n",
    "\n",
    "data = set([1,1,2,3,4,4,5])\n",
    "print(data)\n",
    "\n",
    "data = {1,1,2,3,4,4,5}\n",
    "print(data)"
   ]
  },
  {
   "cell_type": "code",
   "execution_count": 12,
   "metadata": {},
   "outputs": [
    {
     "name": "stdout",
     "output_type": "stream",
     "text": [
      "{1, 2, 3, 4, 5, 6, 7}\n",
      "{3, 4, 5}\n",
      "{1, 2}\n"
     ]
    }
   ],
   "source": [
    "# 집합 자료형의 연산\n",
    "\n",
    "a = set([1,2,3,4,5])\n",
    "b = set([3,4,5,6,7])\n",
    "\n",
    "print(a | b) # 합집합\n",
    "print(a & b) # 교집합\n",
    "print(a - b) # 차집합"
   ]
  },
  {
   "cell_type": "code",
   "execution_count": 13,
   "metadata": {},
   "outputs": [
    {
     "name": "stdout",
     "output_type": "stream",
     "text": [
      "{1, 2, 3}\n",
      "{1, 2, 3, 4}\n",
      "{1, 2, 3, 4, 5, 6}\n",
      "{1, 2, 4, 5, 6}\n"
     ]
    }
   ],
   "source": [
    "# 집합 관련 method\n",
    "data = set([1,2,3])\n",
    "print(data)\n",
    "\n",
    "data.add(4)\n",
    "print(data)\n",
    "\n",
    "data.update([5,6])\n",
    "print(data)\n",
    "\n",
    "data.remove(3)\n",
    "print(data)"
   ]
  },
  {
   "cell_type": "markdown",
   "metadata": {},
   "source": [
    "## 조건문"
   ]
  },
  {
   "cell_type": "code",
   "execution_count": 14,
   "metadata": {},
   "outputs": [
    {
     "name": "stdout",
     "output_type": "stream",
     "text": [
      "Success\n"
     ]
    }
   ],
   "source": [
    "# 간략한 조건문\n",
    "\n",
    "score = 85\n",
    "\n",
    "if score >= 80: result = \"Success\"\n",
    "else: result = \"Fail\"\n",
    "\n",
    "print(result)"
   ]
  },
  {
   "cell_type": "code",
   "execution_count": 16,
   "metadata": {},
   "outputs": [
    {
     "name": "stdout",
     "output_type": "stream",
     "text": [
      "Success\n",
      "[1, 2, 4]\n"
     ]
    }
   ],
   "source": [
    "# conditional expression\n",
    "\n",
    "score = 85\n",
    "result = \"Success\" if score >= 80 else \"Fail\"\n",
    "print(result)\n",
    "\n",
    "# conditional expression 응용\n",
    "a = [1,2,3,4,5,5,5]\n",
    "remove_set = {3,5}\n",
    "\n",
    "result = [i for i in a if i not in remove_set]\n",
    "print(result)"
   ]
  },
  {
   "cell_type": "markdown",
   "metadata": {},
   "source": [
    "## 반복문"
   ]
  },
  {
   "cell_type": "markdown",
   "metadata": {},
   "source": [
    "### while 문"
   ]
  },
  {
   "cell_type": "markdown",
   "metadata": {},
   "source": [
    "### for 문"
   ]
  },
  {
   "cell_type": "markdown",
   "metadata": {},
   "source": [
    "## 함수"
   ]
  },
  {
   "cell_type": "code",
   "execution_count": 17,
   "metadata": {},
   "outputs": [
    {
     "name": "stdout",
     "output_type": "stream",
     "text": [
      "함수의 결과: 4\n"
     ]
    }
   ],
   "source": [
    "# 함수 매개변수를 직접 칭할 수 있다\n",
    "\n",
    "def add(a,b):\n",
    "    print(\"함수의 결과:\", a+b)\n",
    "\n",
    "add(b=1,a=3)"
   ]
  },
  {
   "cell_type": "code",
   "execution_count": 18,
   "metadata": {},
   "outputs": [
    {
     "name": "stdout",
     "output_type": "stream",
     "text": [
      "10\n"
     ]
    }
   ],
   "source": [
    "# global keyword 사용\n",
    "\n",
    "a = 0\n",
    "\n",
    "def func():\n",
    "    global a\n",
    "    a += 1\n",
    "\n",
    "for i in range(10):\n",
    "    func()\n",
    "\n",
    "print(a)"
   ]
  },
  {
   "cell_type": "code",
   "execution_count": 19,
   "metadata": {},
   "outputs": [
    {
     "name": "stdout",
     "output_type": "stream",
     "text": [
      "10\n",
      "10\n"
     ]
    }
   ],
   "source": [
    "# lambda\n",
    "\n",
    "def add(a,b):\n",
    "    return a+b\n",
    "\n",
    "print(add(3,7))\n",
    "print((lambda a,b:a+b)(3,7))"
   ]
  },
  {
   "cell_type": "markdown",
   "metadata": {},
   "source": [
    "## 입출력"
   ]
  },
  {
   "cell_type": "code",
   "execution_count": 20,
   "metadata": {},
   "outputs": [
    {
     "name": "stdout",
     "output_type": "stream",
     "text": [
      "[99, 90, 75, 65, 34]\n"
     ]
    }
   ],
   "source": [
    "# 입력을 위한 전형적인 소스코드\n",
    "n = int(input())\n",
    "data = list(map(int, input().split()))\n",
    "\n",
    "data.sort(reverse=True)\n",
    "print(data)"
   ]
  },
  {
   "cell_type": "code",
   "execution_count": 21,
   "metadata": {},
   "outputs": [
    {
     "name": "stdout",
     "output_type": "stream",
     "text": [
      "3 5 7\n"
     ]
    }
   ],
   "source": [
    "# 적은 수의 데이터 입력\n",
    "n, m, k = map(int, input().split())\n",
    "print(n,m,k)"
   ]
  },
  {
   "cell_type": "code",
   "execution_count": 22,
   "metadata": {},
   "outputs": [],
   "source": [
    "# 빠른 input이 필요할 때 사용해야 하는 함수\n",
    "# notebook에서는 사용할 수 없음\n",
    "import sys\n",
    "\n",
    "# rstrip()을 사용해야 줄바꿈이 입력되지 않는다\n",
    "data = sys.stdin.readline().rstrip()\n",
    "print(data)"
   ]
  },
  {
   "cell_type": "code",
   "execution_count": 2,
   "metadata": {},
   "outputs": [
    {
     "name": "stdout",
     "output_type": "stream",
     "text": [
      "정답은 7 입니다\n",
      "정답은 {answer} 입니다\n"
     ]
    }
   ],
   "source": [
    "answer = 7\n",
    "print(f\"정답은 {answer} 입니다\")\n",
    "print(\"정답은 {answer} 입니다\")"
   ]
  },
  {
   "cell_type": "markdown",
   "metadata": {},
   "source": [
    "## 주요 라이브러리의 문법과 유의점"
   ]
  },
  {
   "cell_type": "markdown",
   "metadata": {},
   "source": [
    "- 파이썬 주요 표준 라이브러리\n",
    "  - 내장 함수\n",
    "  - `itertools` : 반복되는 형태의 데이터를 처리하는 기능을 제공한다. 순열과 조합 라이브러리를 제공한다.\n",
    "  - `heapq` : Heap을 제공한다. 우선순위 큐 기능을 구현하기 위해 사용한다\n",
    "  - `bisect` : 이진 탐색 기능을 제공하는 라이브러리이다\n",
    "  - `collections` : deque, Counter 등의 유용한 자료구조를 포함하고 있는 라이브러리이다\n",
    "  - `math` : 필수적인 수학적 기능을 제공하고 있다."
   ]
  },
  {
   "cell_type": "code",
   "execution_count": 3,
   "metadata": {},
   "outputs": [
    {
     "name": "stdout",
     "output_type": "stream",
     "text": [
      "15\n",
      "2\n",
      "7\n",
      "56\n",
      "[1, 4, 5, 8, 9]\n",
      "[9, 8, 5, 4, 1]\n",
      "[('이순신', 75), ('아무개', 50), ('홍길동', 35), ('개똥이', 20)]\n"
     ]
    }
   ],
   "source": [
    "# 내장 함수\n",
    "\n",
    "result = sum([1,2,3,4,5])\n",
    "print(result)\n",
    "\n",
    "result = min([7,3,5,2])\n",
    "print(result)\n",
    "\n",
    "result = max([7,3,5,2])\n",
    "print(result)\n",
    "\n",
    "# 수식이 문자열 형태로 들어오면 해당 수식을 계산한 결과를 반환한다\n",
    "result = eval(\"(3+5)*7\")\n",
    "print(result)\n",
    "\n",
    "# iterable 객체가 들어왔을 때, 정렬된 결과를 반환한다.\n",
    "result = sorted([9,1,8,5,4])\n",
    "print(result)\n",
    "result = sorted([9,1,8,5,4], reverse=True)\n",
    "print(result)\n",
    "\n",
    "# 특정 기준을 바탕으로 정렬하고 싶을 때\n",
    "result = sorted([('홍길동', 35), ('이순신', 75), ('아무개', 50), ('개똥이', 20)], key=lambda x:x[1], reverse=True)\n",
    "print(result)\n"
   ]
  },
  {
   "cell_type": "code",
   "execution_count": 7,
   "metadata": {},
   "outputs": [
    {
     "name": "stdout",
     "output_type": "stream",
     "text": [
      "[('A', 'B', 'C'), ('A', 'C', 'B'), ('B', 'A', 'C'), ('B', 'C', 'A'), ('C', 'A', 'B'), ('C', 'B', 'A')]\n",
      "[('A', 'B'), ('A', 'C'), ('B', 'C')]\n",
      "[('A', 'A'), ('A', 'B'), ('A', 'C'), ('B', 'A'), ('B', 'B'), ('B', 'C'), ('C', 'A'), ('C', 'B'), ('C', 'C')]\n",
      "[('A', 'A'), ('A', 'B'), ('A', 'C'), ('B', 'B'), ('B', 'C'), ('C', 'C')]\n"
     ]
    }
   ],
   "source": [
    "# itertools\n",
    "\n",
    "# permutations\n",
    "from itertools import permutations\n",
    "data = ['A', 'B', 'C']\n",
    "result = list(permutations(data,3))\n",
    "print(result)\n",
    "\n",
    "# combinations\n",
    "\n",
    "from itertools import combinations\n",
    "result = list(combinations(data,2))\n",
    "print(result)\n",
    "\n",
    "# product : 중복을 허용하는 순열\n",
    "\n",
    "from itertools import product\n",
    "result = list(product(data, repeat=2))\n",
    "print(result)\n",
    "\n",
    "# combinatinos_with_replacement : 중복을 허용하는 조합\n",
    "from itertools import combinations_with_replacement\n",
    "result = list(combinations_with_replacement(data, 2))\n",
    "print(result)"
   ]
  },
  {
   "cell_type": "code",
   "execution_count": 9,
   "metadata": {},
   "outputs": [
    {
     "name": "stdout",
     "output_type": "stream",
     "text": [
      "[0, 1, 2, 3, 4, 5, 6, 7, 8, 9]\n",
      "[9, 8, 7, 6, 5, 4, 3, 2, 1, 0]\n"
     ]
    }
   ],
   "source": [
    "# heapq\n",
    "\n",
    "# python의 heap은 min heap이므로 원소를 넣었다가 빼는 것 만으로도 O(nlogn)에 오름차순 정렬이 완성된다\n",
    "\n",
    "import heapq\n",
    "\n",
    "def heapsort(iterable):\n",
    "    h = []\n",
    "    result = []\n",
    "    for value in iterable:\n",
    "        heapq.heappush(h, value)\n",
    "    for i in range(len(h)):\n",
    "        result.append(heapq.heappop(h))\n",
    "    return result\n",
    "\n",
    "result = heapsort([1,3,5,7,9,2,4,6,8,0])\n",
    "print(result)\n",
    "\n",
    "# python에서는 max heap을 제공하지 않는다. heapq를 이용해 원소의 부호를 입시로 바꾸는 방법을 사용한다\n",
    "def heapsort_reverse(iterable):\n",
    "    h = []\n",
    "    result = []\n",
    "    for value in iterable:\n",
    "        heapq.heappush(h, -value)\n",
    "    for i in range(len(h)):\n",
    "        result.append(-heapq.heappop(h))\n",
    "    return result\n",
    "\n",
    "result = heapsort_reverse([1,3,5,7,9,2,4,6,8,0])\n",
    "print(result)"
   ]
  },
  {
   "cell_type": "code",
   "execution_count": 11,
   "metadata": {},
   "outputs": [
    {
     "name": "stdout",
     "output_type": "stream",
     "text": [
      "2\n",
      "4\n",
      "2\n",
      "6\n"
     ]
    }
   ],
   "source": [
    "# bisect\n",
    "\n",
    "# 정렬된 배열에서 특정한 원소를 찾을 때 매우 효과적으로 찾을 수 있다. \n",
    "# O(logn)에 동작한다\n",
    "\n",
    "from bisect import bisect_left, bisect_right\n",
    "\n",
    "a = [1,2,4,4,8]\n",
    "x = 4\n",
    "\n",
    "print(bisect_left(a,x))\n",
    "print(bisect_right(a,x))\n",
    "\n",
    "# '정렬된 리스트'에서 '값이 특정 범위에 속하는 원소의 개수'를 구하고자 할 때, 효과적으로 사용될 수 있다\n",
    "\n",
    "def count_by_range(a, left_value, right_value):\n",
    "    right_index = bisect_right(a, right_value)\n",
    "    left_index = bisect_left(a, left_value)\n",
    "    return right_index - left_index\n",
    "\n",
    "a = [1,2,3,3,3,3,4,4,8,9]\n",
    "\n",
    "print(count_by_range(a,4,4))\n",
    "\n",
    "print(count_by_range(a, -1, 3))"
   ]
  },
  {
   "cell_type": "code",
   "execution_count": 13,
   "metadata": {},
   "outputs": [
    {
     "name": "stdout",
     "output_type": "stream",
     "text": [
      "deque([1, 2, 3, 4, 5])\n",
      "[1, 2, 3, 4, 5]\n",
      "3\n",
      "1\n",
      "{'red': 2, 'blue': 3, 'green': 1}\n"
     ]
    }
   ],
   "source": [
    "# collections\n",
    "\n",
    "# deque : stack, queue 대용으로 사용가능\n",
    "from collections import deque\n",
    "\n",
    "data = deque([2,3,4])\n",
    "data.appendleft(1)\n",
    "data.append(5)\n",
    "\n",
    "print(data)\n",
    "print(list(data))\n",
    "\n",
    "from collections import Counter\n",
    "\n",
    "counter = Counter(['red','blue', 'red', 'blue', 'blue', 'green'])\n",
    "print(counter['blue'])\n",
    "print(counter['green'])\n",
    "print(dict(counter))"
   ]
  },
  {
   "cell_type": "code",
   "execution_count": 15,
   "metadata": {},
   "outputs": [
    {
     "name": "stdout",
     "output_type": "stream",
     "text": [
      "120\n",
      "2.6457513110645907\n",
      "3\n",
      "3.141592653589793\n",
      "2.718281828459045\n"
     ]
    }
   ],
   "source": [
    "# math\n",
    "import math\n",
    "\n",
    "print(math.factorial(5))\n",
    "\n",
    "print(math.sqrt(7))\n",
    "\n",
    "# 최대공약수\n",
    "print(math.gcd(21,24))\n",
    "\n",
    "print(math.pi)\n",
    "print(math.e)"
   ]
  }
 ],
 "metadata": {
  "kernelspec": {
   "display_name": "Python 3",
   "language": "python",
   "name": "python3"
  },
  "language_info": {
   "codemirror_mode": {
    "name": "ipython",
    "version": 3
   },
   "file_extension": ".py",
   "mimetype": "text/x-python",
   "name": "python",
   "nbconvert_exporter": "python",
   "pygments_lexer": "ipython3",
   "version": "3.12.0"
  }
 },
 "nbformat": 4,
 "nbformat_minor": 2
}
